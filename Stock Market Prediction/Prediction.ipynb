{
 "cells": [
  {
   "cell_type": "code",
   "execution_count": 1,
   "id": "59112929",
   "metadata": {},
   "outputs": [
    {
     "name": "stdout",
     "output_type": "stream",
     "text": [
      "Collecting tensorflow\n",
      "  Downloading tensorflow-2.9.1-cp39-cp39-win_amd64.whl (444.0 MB)\n",
      "Requirement already satisfied: setuptools in c:\\users\\hp\\anaconda3\\lib\\site-packages (from tensorflow) (61.2.0)\n",
      "Collecting libclang>=13.0.0\n",
      "  Downloading libclang-14.0.6-py2.py3-none-win_amd64.whl (14.2 MB)\n",
      "Requirement already satisfied: numpy>=1.20 in c:\\users\\hp\\anaconda3\\lib\\site-packages (from tensorflow) (1.21.5)\n",
      "Requirement already satisfied: h5py>=2.9.0 in c:\\users\\hp\\anaconda3\\lib\\site-packages (from tensorflow) (3.6.0)\n",
      "Collecting gast<=0.4.0,>=0.2.1\n",
      "  Downloading gast-0.4.0-py3-none-any.whl (9.8 kB)\n",
      "Collecting opt-einsum>=2.3.2\n",
      "  Downloading opt_einsum-3.3.0-py3-none-any.whl (65 kB)\n",
      "Requirement already satisfied: protobuf<3.20,>=3.9.2 in c:\\users\\hp\\anaconda3\\lib\\site-packages (from tensorflow) (3.19.1)\n",
      "Collecting flatbuffers<2,>=1.12\n",
      "  Downloading flatbuffers-1.12-py2.py3-none-any.whl (15 kB)\n",
      "Requirement already satisfied: six>=1.12.0 in c:\\users\\hp\\anaconda3\\lib\\site-packages (from tensorflow) (1.16.0)\n",
      "Requirement already satisfied: wrapt>=1.11.0 in c:\\users\\hp\\anaconda3\\lib\\site-packages (from tensorflow) (1.12.1)\n",
      "Collecting tensorboard<2.10,>=2.9\n",
      "  Downloading tensorboard-2.9.1-py3-none-any.whl (5.8 MB)\n",
      "Collecting astunparse>=1.6.0\n",
      "  Downloading astunparse-1.6.3-py2.py3-none-any.whl (12 kB)\n",
      "Requirement already satisfied: packaging in c:\\users\\hp\\anaconda3\\lib\\site-packages (from tensorflow) (21.3)\n",
      "Requirement already satisfied: grpcio<2.0,>=1.24.3 in c:\\users\\hp\\anaconda3\\lib\\site-packages (from tensorflow) (1.42.0)\n",
      "Collecting keras-preprocessing>=1.1.1\n",
      "  Downloading Keras_Preprocessing-1.1.2-py2.py3-none-any.whl (42 kB)\n",
      "Requirement already satisfied: typing-extensions>=3.6.6 in c:\\users\\hp\\anaconda3\\lib\\site-packages (from tensorflow) (4.1.1)\n",
      "Collecting keras<2.10.0,>=2.9.0rc0\n",
      "  Downloading keras-2.9.0-py2.py3-none-any.whl (1.6 MB)\n",
      "Collecting termcolor>=1.1.0\n",
      "  Downloading termcolor-1.1.0.tar.gz (3.9 kB)\n",
      "Collecting google-pasta>=0.1.1\n",
      "  Downloading google_pasta-0.2.0-py3-none-any.whl (57 kB)\n",
      "Collecting tensorflow-io-gcs-filesystem>=0.23.1\n",
      "  Downloading tensorflow_io_gcs_filesystem-0.26.0-cp39-cp39-win_amd64.whl (1.5 MB)\n",
      "Collecting absl-py>=1.0.0\n",
      "  Downloading absl_py-1.2.0-py3-none-any.whl (123 kB)\n",
      "Collecting tensorflow-estimator<2.10.0,>=2.9.0rc0\n",
      "  Downloading tensorflow_estimator-2.9.0-py2.py3-none-any.whl (438 kB)\n",
      "Requirement already satisfied: wheel<1.0,>=0.23.0 in c:\\users\\hp\\anaconda3\\lib\\site-packages (from astunparse>=1.6.0->tensorflow) (0.37.1)\n",
      "Requirement already satisfied: google-auth<3,>=1.6.3 in c:\\users\\hp\\anaconda3\\lib\\site-packages (from tensorboard<2.10,>=2.9->tensorflow) (1.33.0)\n",
      "Collecting tensorboard-plugin-wit>=1.6.0\n",
      "  Downloading tensorboard_plugin_wit-1.8.1-py3-none-any.whl (781 kB)\n",
      "Collecting tensorboard-data-server<0.7.0,>=0.6.0\n",
      "  Downloading tensorboard_data_server-0.6.1-py3-none-any.whl (2.4 kB)\n",
      "Collecting google-auth-oauthlib<0.5,>=0.4.1\n",
      "  Downloading google_auth_oauthlib-0.4.6-py2.py3-none-any.whl (18 kB)\n",
      "Requirement already satisfied: markdown>=2.6.8 in c:\\users\\hp\\anaconda3\\lib\\site-packages (from tensorboard<2.10,>=2.9->tensorflow) (3.3.4)\n",
      "Requirement already satisfied: werkzeug>=1.0.1 in c:\\users\\hp\\anaconda3\\lib\\site-packages (from tensorboard<2.10,>=2.9->tensorflow) (2.0.3)\n",
      "Requirement already satisfied: requests<3,>=2.21.0 in c:\\users\\hp\\anaconda3\\lib\\site-packages (from tensorboard<2.10,>=2.9->tensorflow) (2.27.1)\n",
      "Requirement already satisfied: rsa<5,>=3.1.4 in c:\\users\\hp\\anaconda3\\lib\\site-packages (from google-auth<3,>=1.6.3->tensorboard<2.10,>=2.9->tensorflow) (4.7.2)\n",
      "Requirement already satisfied: pyasn1-modules>=0.2.1 in c:\\users\\hp\\anaconda3\\lib\\site-packages (from google-auth<3,>=1.6.3->tensorboard<2.10,>=2.9->tensorflow) (0.2.8)\n",
      "Requirement already satisfied: cachetools<5.0,>=2.0.0 in c:\\users\\hp\\anaconda3\\lib\\site-packages (from google-auth<3,>=1.6.3->tensorboard<2.10,>=2.9->tensorflow) (4.2.2)\n",
      "Collecting requests-oauthlib>=0.7.0\n",
      "  Downloading requests_oauthlib-1.3.1-py2.py3-none-any.whl (23 kB)\n",
      "Requirement already satisfied: pyasn1<0.5.0,>=0.4.6 in c:\\users\\hp\\anaconda3\\lib\\site-packages (from pyasn1-modules>=0.2.1->google-auth<3,>=1.6.3->tensorboard<2.10,>=2.9->tensorflow) (0.4.8)\n",
      "Requirement already satisfied: urllib3<1.27,>=1.21.1 in c:\\users\\hp\\anaconda3\\lib\\site-packages (from requests<3,>=2.21.0->tensorboard<2.10,>=2.9->tensorflow) (1.26.9)\n",
      "Requirement already satisfied: charset-normalizer~=2.0.0 in c:\\users\\hp\\anaconda3\\lib\\site-packages (from requests<3,>=2.21.0->tensorboard<2.10,>=2.9->tensorflow) (2.0.4)\n",
      "Requirement already satisfied: idna<4,>=2.5 in c:\\users\\hp\\anaconda3\\lib\\site-packages (from requests<3,>=2.21.0->tensorboard<2.10,>=2.9->tensorflow) (3.3)\n",
      "Requirement already satisfied: certifi>=2017.4.17 in c:\\users\\hp\\anaconda3\\lib\\site-packages (from requests<3,>=2.21.0->tensorboard<2.10,>=2.9->tensorflow) (2021.10.8)\n",
      "Collecting oauthlib>=3.0.0\n",
      "  Downloading oauthlib-3.2.0-py3-none-any.whl (151 kB)\n",
      "Requirement already satisfied: pyparsing!=3.0.5,>=2.0.2 in c:\\users\\hp\\anaconda3\\lib\\site-packages (from packaging->tensorflow) (3.0.4)\n",
      "Building wheels for collected packages: termcolor\n",
      "  Building wheel for termcolor (setup.py): started\n",
      "  Building wheel for termcolor (setup.py): finished with status 'done'\n",
      "  Created wheel for termcolor: filename=termcolor-1.1.0-py3-none-any.whl size=4848 sha256=0cb2a6b81a20a0c702479c35436b067b667c48bef29c17a018a0e927ffbf0bab\n",
      "  Stored in directory: c:\\users\\hp\\appdata\\local\\pip\\cache\\wheels\\b6\\0d\\90\\0d1bbd99855f99cb2f6c2e5ff96f8023fad8ec367695f7d72d\n",
      "Successfully built termcolor\n",
      "Installing collected packages: oauthlib, requests-oauthlib, tensorboard-plugin-wit, tensorboard-data-server, google-auth-oauthlib, absl-py, termcolor, tensorflow-io-gcs-filesystem, tensorflow-estimator, tensorboard, opt-einsum, libclang, keras-preprocessing, keras, google-pasta, gast, flatbuffers, astunparse, tensorflow\n",
      "Successfully installed absl-py-1.2.0 astunparse-1.6.3 flatbuffers-1.12 gast-0.4.0 google-auth-oauthlib-0.4.6 google-pasta-0.2.0 keras-2.9.0 keras-preprocessing-1.1.2 libclang-14.0.6 oauthlib-3.2.0 opt-einsum-3.3.0 requests-oauthlib-1.3.1 tensorboard-2.9.1 tensorboard-data-server-0.6.1 tensorboard-plugin-wit-1.8.1 tensorflow-2.9.1 tensorflow-estimator-2.9.0 tensorflow-io-gcs-filesystem-0.26.0 termcolor-1.1.0\n",
      "Requirement already satisfied: keras in c:\\users\\hp\\anaconda3\\lib\\site-packages (2.9.0)\n"
     ]
    }
   ],
   "source": [
    "!pip install tensorflow\n",
    "!pip install keras"
   ]
  },
  {
   "cell_type": "code",
   "execution_count": 2,
   "id": "00b6c2ac",
   "metadata": {},
   "outputs": [],
   "source": [
    "from sklearn import datasets, svm\n",
    "import matplotlib.pyplot as plt\n",
    "import pandas as pd"
   ]
  },
  {
   "cell_type": "code",
   "execution_count": 12,
   "id": "f9e51ee1",
   "metadata": {},
   "outputs": [],
   "source": [
    "df = pd.read_csv(r'C:\\Users\\HP\\Desktop\\Stock Market Prediction\\dataset.csv')"
   ]
  },
  {
   "cell_type": "code",
   "execution_count": 13,
   "id": "df5dc02d",
   "metadata": {},
   "outputs": [
    {
     "data": {
      "text/html": [
       "<div>\n",
       "<style scoped>\n",
       "    .dataframe tbody tr th:only-of-type {\n",
       "        vertical-align: middle;\n",
       "    }\n",
       "\n",
       "    .dataframe tbody tr th {\n",
       "        vertical-align: top;\n",
       "    }\n",
       "\n",
       "    .dataframe thead th {\n",
       "        text-align: right;\n",
       "    }\n",
       "</style>\n",
       "<table border=\"1\" class=\"dataframe\">\n",
       "  <thead>\n",
       "    <tr style=\"text-align: right;\">\n",
       "      <th></th>\n",
       "      <th>Date</th>\n",
       "      <th>Open</th>\n",
       "      <th>High</th>\n",
       "      <th>Low</th>\n",
       "      <th>Close</th>\n",
       "      <th>Adj Close</th>\n",
       "      <th>Volume</th>\n",
       "    </tr>\n",
       "  </thead>\n",
       "  <tbody>\n",
       "    <tr>\n",
       "      <th>0</th>\n",
       "      <td>2018-02-05</td>\n",
       "      <td>262.000000</td>\n",
       "      <td>267.899994</td>\n",
       "      <td>250.029999</td>\n",
       "      <td>254.259995</td>\n",
       "      <td>254.259995</td>\n",
       "      <td>11896100</td>\n",
       "    </tr>\n",
       "    <tr>\n",
       "      <th>1</th>\n",
       "      <td>2018-02-06</td>\n",
       "      <td>247.699997</td>\n",
       "      <td>266.700012</td>\n",
       "      <td>245.000000</td>\n",
       "      <td>265.720001</td>\n",
       "      <td>265.720001</td>\n",
       "      <td>12595800</td>\n",
       "    </tr>\n",
       "    <tr>\n",
       "      <th>2</th>\n",
       "      <td>2018-02-07</td>\n",
       "      <td>266.579987</td>\n",
       "      <td>272.450012</td>\n",
       "      <td>264.329987</td>\n",
       "      <td>264.559998</td>\n",
       "      <td>264.559998</td>\n",
       "      <td>8981500</td>\n",
       "    </tr>\n",
       "    <tr>\n",
       "      <th>3</th>\n",
       "      <td>2018-02-08</td>\n",
       "      <td>267.079987</td>\n",
       "      <td>267.619995</td>\n",
       "      <td>250.000000</td>\n",
       "      <td>250.100006</td>\n",
       "      <td>250.100006</td>\n",
       "      <td>9306700</td>\n",
       "    </tr>\n",
       "    <tr>\n",
       "      <th>4</th>\n",
       "      <td>2018-02-09</td>\n",
       "      <td>253.850006</td>\n",
       "      <td>255.800003</td>\n",
       "      <td>236.110001</td>\n",
       "      <td>249.470001</td>\n",
       "      <td>249.470001</td>\n",
       "      <td>16906900</td>\n",
       "    </tr>\n",
       "  </tbody>\n",
       "</table>\n",
       "</div>"
      ],
      "text/plain": [
       "         Date        Open        High         Low       Close   Adj Close  \\\n",
       "0  2018-02-05  262.000000  267.899994  250.029999  254.259995  254.259995   \n",
       "1  2018-02-06  247.699997  266.700012  245.000000  265.720001  265.720001   \n",
       "2  2018-02-07  266.579987  272.450012  264.329987  264.559998  264.559998   \n",
       "3  2018-02-08  267.079987  267.619995  250.000000  250.100006  250.100006   \n",
       "4  2018-02-09  253.850006  255.800003  236.110001  249.470001  249.470001   \n",
       "\n",
       "     Volume  \n",
       "0  11896100  \n",
       "1  12595800  \n",
       "2   8981500  \n",
       "3   9306700  \n",
       "4  16906900  "
      ]
     },
     "execution_count": 13,
     "metadata": {},
     "output_type": "execute_result"
    }
   ],
   "source": [
    "df.head()"
   ]
  },
  {
   "cell_type": "code",
   "execution_count": 19,
   "id": "81524d2f",
   "metadata": {},
   "outputs": [],
   "source": [
    "df1=df.reset_index()['Close']"
   ]
  },
  {
   "cell_type": "code",
   "execution_count": 23,
   "id": "00a82332",
   "metadata": {},
   "outputs": [
    {
     "data": {
      "text/plain": [
       "0       254.259995\n",
       "1       265.720001\n",
       "2       264.559998\n",
       "3       250.100006\n",
       "4       249.470001\n",
       "           ...    \n",
       "1004    427.140015\n",
       "1005    457.130005\n",
       "1006    429.480011\n",
       "1007    405.600006\n",
       "1008    410.170013\n",
       "Name: Close, Length: 1009, dtype: float64"
      ]
     },
     "execution_count": 23,
     "metadata": {},
     "output_type": "execute_result"
    }
   ],
   "source": [
    "df1"
   ]
  },
  {
   "cell_type": "code",
   "execution_count": 24,
   "id": "295eb7d2",
   "metadata": {},
   "outputs": [
    {
     "data": {
      "text/plain": [
       "[<matplotlib.lines.Line2D at 0x19c1f635dc0>]"
      ]
     },
     "execution_count": 24,
     "metadata": {},
     "output_type": "execute_result"
    },
    {
     "data": {
      "image/png": "[encoded data removed]",
      "text/plain": [
       "<Figure size 432x288 with 1 Axes>"
      ]
     },
     "metadata": {
      "needs_background": "light"
     },
     "output_type": "display_data"
    }
   ],
   "source": [
    "import matplotlib.pyplot as plt\n",
    "plt.plot(df1)"
   ]
  },
  {
   "cell_type": "code",
   "execution_count": 25,
   "id": "ca07bc4b",
   "metadata": {},
   "outputs": [],
   "source": [
    "import numpy as np"
   ]
  },
  {
   "cell_type": "code",
   "execution_count": 26,
   "id": "919c8fe1",
   "metadata": {},
   "outputs": [],
   "source": [
    "from sklearn.preprocessing import MinMaxScaler\n",
    "scaler=MinMaxScaler(feature_range=(0,1))\n",
    "df1=scaler.fit_transform(np.array(df1).reshape(-1,1))"
   ]
  },
  {
   "cell_type": "code",
   "execution_count": 27,
   "id": "1789f07e",
   "metadata": {},
   "outputs": [
    {
     "data": {
      "text/plain": [
       "array([[0.04451626],\n",
       "       [0.06954849],\n",
       "       [0.06701469],\n",
       "       ...,\n",
       "       [0.4272515 ],\n",
       "       [0.37509011],\n",
       "       [0.38507243]])"
      ]
     },
     "execution_count": 27,
     "metadata": {},
     "output_type": "execute_result"
    }
   ],
   "source": [
    "df1"
   ]
  },
  {
   "cell_type": "code",
   "execution_count": 28,
   "id": "8844ba27",
   "metadata": {},
   "outputs": [],
   "source": [
    "training_size=int(len(df1)*0.65)\n",
    "test_size=len(df1)-training_size\n",
    "train_data,test_data=df1[0:training_size,:],df1[training_size:len(df1),:1]"
   ]
  },
  {
   "cell_type": "code",
   "execution_count": 29,
   "id": "d99a1734",
   "metadata": {},
   "outputs": [
    {
     "data": {
      "text/plain": [
       "(655, 354)"
      ]
     },
     "execution_count": 29,
     "metadata": {},
     "output_type": "execute_result"
    }
   ],
   "source": [
    "training_size,test_size"
   ]
  },
  {
   "cell_type": "code",
   "execution_count": 30,
   "id": "5052cb1e",
   "metadata": {},
   "outputs": [],
   "source": [
    "import numpy\n",
    "def create_dataset(dataset, time_step=1):\n",
    "    dataX, dataY = [], []\n",
    "    for i in range(len(dataset)-time_step-1):\n",
    "        a = dataset[i:(i+time_step), 0]\n",
    "        dataX.append(a)\n",
    "        dataY.append(dataset[i + time_step, 0])\n",
    "    return numpy.array(dataX), numpy.array(dataY)"
   ]
  },
  {
   "cell_type": "code",
   "execution_count": 31,
   "id": "ddbbdcc0",
   "metadata": {},
   "outputs": [],
   "source": [
    "time_step = 100\n",
    "X_train, y_train = create_dataset(train_data, time_step)\n",
    "X_test, ytest = create_dataset(test_data, time_step)"
   ]
  },
  {
   "cell_type": "code",
   "execution_count": 32,
   "id": "d5a38f59",
   "metadata": {},
   "outputs": [
    {
     "name": "stdout",
     "output_type": "stream",
     "text": [
      "(554, 100)\n",
      "(554,)\n"
     ]
    },
    {
     "data": {
      "text/plain": [
       "(None, None)"
      ]
     },
     "execution_count": 32,
     "metadata": {},
     "output_type": "execute_result"
    }
   ],
   "source": [
    "print(X_train.shape), print(y_train.shape)"
   ]
  },
  {
   "cell_type": "code",
   "execution_count": 33,
   "id": "4774f66e",
   "metadata": {},
   "outputs": [
    {
     "name": "stdout",
     "output_type": "stream",
     "text": [
      "(253, 100)\n",
      "(253,)\n"
     ]
    },
    {
     "data": {
      "text/plain": [
       "(None, None)"
      ]
     },
     "execution_count": 33,
     "metadata": {},
     "output_type": "execute_result"
    }
   ],
   "source": [
    "print(X_test.shape), print(ytest.shape)"
   ]
  },
  {
   "cell_type": "code",
   "execution_count": 34,
   "id": "f8d9427b",
   "metadata": {},
   "outputs": [],
   "source": [
    "X_train =X_train.reshape(X_train.shape[0],X_train.shape[1] , 1)\n",
    "X_test = X_test.reshape(X_test.shape[0],X_test.shape[1] , 1)"
   ]
  },
  {
   "cell_type": "code",
   "execution_count": 35,
   "id": "33e5ab2f",
   "metadata": {},
   "outputs": [],
   "source": [
    "from tensorflow.keras.models import Sequential\n",
    "from tensorflow.keras.layers import Dense\n",
    "from tensorflow.keras.layers import LSTM"
   ]
  },
  {
   "cell_type": "code",
   "execution_count": 36,
   "id": "41bfce6a",
   "metadata": {},
   "outputs": [],
   "source": [
    "model=Sequential()\n",
    "model.add(LSTM(50,return_sequences=True,input_shape=(100,1)))\n",
    "model.add(LSTM(50,return_sequences=True))\n",
    "model.add(LSTM(50))\n",
    "model.add(Dense(1))\n",
    "model.compile(loss='mean_squared_error',optimizer='adam')"
   ]
  },
  {
   "cell_type": "code",
   "execution_count": 37,
   "id": "4e94edb4",
   "metadata": {},
   "outputs": [
    {
     "name": "stdout",
     "output_type": "stream",
     "text": [
      "Model: \"sequential\"\n",
      "_________________________________________________________________\n",
      " Layer (type)                Output Shape              Param #   \n",
      "=================================================================\n",
      " lstm (LSTM)                 (None, 100, 50)           10400     \n",
      "                                                                 \n",
      " lstm_1 (LSTM)               (None, 100, 50)           20200     \n",
      "                                                                 \n",
      " lstm_2 (LSTM)               (None, 50)                20200     \n",
      "                                                                 \n",
      " dense (Dense)               (None, 1)                 51        \n",
      "                                                                 \n",
      "=================================================================\n",
      "Total params: 50,851\n",
      "Trainable params: 50,851\n",
      "Non-trainable params: 0\n",
      "_________________________________________________________________\n"
     ]
    }
   ],
   "source": [
    "model.summary()"
   ]
  },
  {
   "cell_type": "code",
   "execution_count": 39,
   "id": "ffce1410",
   "metadata": {},
   "outputs": [
    {
     "name": "stdout",
     "output_type": "stream",
     "text": [
      "Epoch 1/100\n",
      "9/9 [==============================] - 17s 560ms/step - loss: 0.0368 - val_loss: 0.0192\n",
      "Epoch 2/100\n",
      "9/9 [==============================] - 2s 244ms/step - loss: 0.0087 - val_loss: 0.0450\n",
      "Epoch 3/100\n",
      "9/9 [==============================] - 2s 240ms/step - loss: 0.0063 - val_loss: 0.0124\n",
      "Epoch 4/100\n",
      "9/9 [==============================] - 2s 232ms/step - loss: 0.0044 - val_loss: 0.0118\n",
      "Epoch 5/100\n",
      "9/9 [==============================] - 2s 243ms/step - loss: 0.0034 - val_loss: 0.0083\n",
      "Epoch 6/100\n",
      "9/9 [==============================] - 2s 224ms/step - loss: 0.0030 - val_loss: 0.0112\n",
      "Epoch 7/100\n",
      "9/9 [==============================] - 2s 225ms/step - loss: 0.0029 - val_loss: 0.0088\n",
      "Epoch 8/100\n",
      "9/9 [==============================] - 2s 223ms/step - loss: 0.0028 - val_loss: 0.0133\n",
      "Epoch 9/100\n",
      "9/9 [==============================] - 2s 223ms/step - loss: 0.0028 - val_loss: 0.0069\n",
      "Epoch 10/100\n",
      "9/9 [==============================] - 2s 221ms/step - loss: 0.0027 - val_loss: 0.0083\n",
      "Epoch 11/100\n",
      "9/9 [==============================] - 2s 221ms/step - loss: 0.0026 - val_loss: 0.0091\n",
      "Epoch 12/100\n",
      "9/9 [==============================] - 2s 222ms/step - loss: 0.0025 - val_loss: 0.0084\n",
      "Epoch 13/100\n",
      "9/9 [==============================] - 2s 221ms/step - loss: 0.0024 - val_loss: 0.0065\n",
      "Epoch 14/100\n",
      "9/9 [==============================] - 2s 224ms/step - loss: 0.0024 - val_loss: 0.0085\n",
      "Epoch 15/100\n",
      "9/9 [==============================] - 2s 222ms/step - loss: 0.0023 - val_loss: 0.0119\n",
      "Epoch 16/100\n",
      "9/9 [==============================] - 2s 224ms/step - loss: 0.0024 - val_loss: 0.0101\n",
      "Epoch 17/100\n",
      "9/9 [==============================] - 2s 222ms/step - loss: 0.0024 - val_loss: 0.0080\n",
      "Epoch 18/100\n",
      "9/9 [==============================] - 2s 224ms/step - loss: 0.0023 - val_loss: 0.0070\n",
      "Epoch 19/100\n",
      "9/9 [==============================] - 2s 223ms/step - loss: 0.0023 - val_loss: 0.0051\n",
      "Epoch 20/100\n",
      "9/9 [==============================] - 2s 224ms/step - loss: 0.0023 - val_loss: 0.0046\n",
      "Epoch 21/100\n",
      "9/9 [==============================] - 2s 223ms/step - loss: 0.0021 - val_loss: 0.0047\n",
      "Epoch 22/100\n",
      "9/9 [==============================] - 2s 224ms/step - loss: 0.0020 - val_loss: 0.0064\n",
      "Epoch 23/100\n",
      "9/9 [==============================] - 2s 221ms/step - loss: 0.0020 - val_loss: 0.0079\n",
      "Epoch 24/100\n",
      "9/9 [==============================] - 2s 225ms/step - loss: 0.0019 - val_loss: 0.0048\n",
      "Epoch 25/100\n",
      "9/9 [==============================] - 2s 225ms/step - loss: 0.0019 - val_loss: 0.0060\n",
      "Epoch 26/100\n",
      "9/9 [==============================] - 2s 222ms/step - loss: 0.0018 - val_loss: 0.0039\n",
      "Epoch 27/100\n",
      "9/9 [==============================] - 2s 225ms/step - loss: 0.0019 - val_loss: 0.0038\n",
      "Epoch 28/100\n",
      "9/9 [==============================] - 2s 236ms/step - loss: 0.0019 - val_loss: 0.0046\n",
      "Epoch 29/100\n",
      "9/9 [==============================] - 2s 233ms/step - loss: 0.0018 - val_loss: 0.0040\n",
      "Epoch 30/100\n",
      "9/9 [==============================] - 2s 224ms/step - loss: 0.0019 - val_loss: 0.0036\n",
      "Epoch 31/100\n",
      "9/9 [==============================] - 2s 223ms/step - loss: 0.0017 - val_loss: 0.0040\n",
      "Epoch 32/100\n",
      "9/9 [==============================] - 2s 222ms/step - loss: 0.0018 - val_loss: 0.0070\n",
      "Epoch 33/100\n",
      "9/9 [==============================] - 2s 225ms/step - loss: 0.0018 - val_loss: 0.0055\n",
      "Epoch 34/100\n",
      "9/9 [==============================] - 2s 224ms/step - loss: 0.0017 - val_loss: 0.0035\n",
      "Epoch 35/100\n",
      "9/9 [==============================] - 2s 224ms/step - loss: 0.0017 - val_loss: 0.0073\n",
      "Epoch 36/100\n",
      "9/9 [==============================] - 2s 223ms/step - loss: 0.0017 - val_loss: 0.0091\n",
      "Epoch 37/100\n",
      "9/9 [==============================] - 2s 223ms/step - loss: 0.0018 - val_loss: 0.0070\n",
      "Epoch 38/100\n",
      "9/9 [==============================] - 2s 223ms/step - loss: 0.0018 - val_loss: 0.0089\n",
      "Epoch 39/100\n",
      "9/9 [==============================] - 2s 224ms/step - loss: 0.0017 - val_loss: 0.0093\n",
      "Epoch 40/100\n",
      "9/9 [==============================] - 2s 222ms/step - loss: 0.0018 - val_loss: 0.0076\n",
      "Epoch 41/100\n",
      "9/9 [==============================] - 2s 225ms/step - loss: 0.0017 - val_loss: 0.0045\n",
      "Epoch 42/100\n",
      "9/9 [==============================] - 2s 226ms/step - loss: 0.0016 - val_loss: 0.0057\n",
      "Epoch 43/100\n",
      "9/9 [==============================] - 2s 222ms/step - loss: 0.0018 - val_loss: 0.0071\n",
      "Epoch 44/100\n",
      "9/9 [==============================] - 2s 227ms/step - loss: 0.0018 - val_loss: 0.0030\n",
      "Epoch 45/100\n",
      "9/9 [==============================] - 2s 224ms/step - loss: 0.0016 - val_loss: 0.0036\n",
      "Epoch 46/100\n",
      "9/9 [==============================] - 2s 220ms/step - loss: 0.0015 - val_loss: 0.0041\n",
      "Epoch 47/100\n",
      "9/9 [==============================] - 2s 223ms/step - loss: 0.0015 - val_loss: 0.0032\n",
      "Epoch 48/100\n",
      "9/9 [==============================] - 2s 223ms/step - loss: 0.0015 - val_loss: 0.0028\n",
      "Epoch 49/100\n",
      "9/9 [==============================] - 2s 225ms/step - loss: 0.0015 - val_loss: 0.0035\n",
      "Epoch 50/100\n",
      "9/9 [==============================] - 2s 222ms/step - loss: 0.0014 - val_loss: 0.0035\n",
      "Epoch 51/100\n",
      "9/9 [==============================] - 2s 224ms/step - loss: 0.0014 - val_loss: 0.0030\n",
      "Epoch 52/100\n",
      "9/9 [==============================] - 2s 226ms/step - loss: 0.0015 - val_loss: 0.0028\n",
      "Epoch 53/100\n",
      "9/9 [==============================] - 2s 239ms/step - loss: 0.0014 - val_loss: 0.0028\n",
      "Epoch 54/100\n",
      "9/9 [==============================] - 2s 224ms/step - loss: 0.0013 - val_loss: 0.0030\n",
      "Epoch 55/100\n",
      "9/9 [==============================] - 2s 226ms/step - loss: 0.0013 - val_loss: 0.0030\n",
      "Epoch 56/100\n",
      "9/9 [==============================] - 2s 226ms/step - loss: 0.0013 - val_loss: 0.0025\n",
      "Epoch 57/100\n",
      "9/9 [==============================] - 2s 222ms/step - loss: 0.0013 - val_loss: 0.0025\n",
      "Epoch 58/100\n",
      "9/9 [==============================] - 2s 229ms/step - loss: 0.0012 - val_loss: 0.0028\n",
      "Epoch 59/100\n",
      "9/9 [==============================] - 2s 222ms/step - loss: 0.0012 - val_loss: 0.0033\n",
      "Epoch 60/100\n",
      "9/9 [==============================] - 2s 225ms/step - loss: 0.0012 - val_loss: 0.0026\n",
      "Epoch 61/100\n",
      "9/9 [==============================] - 2s 221ms/step - loss: 0.0011 - val_loss: 0.0025\n",
      "Epoch 62/100\n",
      "9/9 [==============================] - 2s 224ms/step - loss: 0.0012 - val_loss: 0.0024\n",
      "Epoch 63/100\n",
      "9/9 [==============================] - 2s 222ms/step - loss: 0.0012 - val_loss: 0.0029\n",
      "Epoch 64/100\n",
      "9/9 [==============================] - 2s 224ms/step - loss: 0.0010 - val_loss: 0.0030\n",
      "Epoch 65/100\n",
      "9/9 [==============================] - 2s 221ms/step - loss: 0.0010 - val_loss: 0.0024\n",
      "Epoch 66/100\n",
      "9/9 [==============================] - 2s 225ms/step - loss: 0.0011 - val_loss: 0.0051\n",
      "Epoch 67/100\n",
      "9/9 [==============================] - 2s 224ms/step - loss: 0.0012 - val_loss: 0.0023\n",
      "Epoch 68/100\n",
      "9/9 [==============================] - 2s 223ms/step - loss: 0.0010 - val_loss: 0.0025\n",
      "Epoch 69/100\n",
      "9/9 [==============================] - 2s 224ms/step - loss: 0.0011 - val_loss: 0.0020\n",
      "Epoch 70/100\n",
      "9/9 [==============================] - 2s 226ms/step - loss: 9.7777e-04 - val_loss: 0.0023\n",
      "Epoch 71/100\n",
      "9/9 [==============================] - 2s 219ms/step - loss: 9.3888e-04 - val_loss: 0.0018\n",
      "Epoch 72/100\n",
      "9/9 [==============================] - 2s 225ms/step - loss: 9.1803e-04 - val_loss: 0.0018\n",
      "Epoch 73/100\n",
      "9/9 [==============================] - 2s 222ms/step - loss: 8.4932e-04 - val_loss: 0.0017\n",
      "Epoch 74/100\n",
      "9/9 [==============================] - 2s 221ms/step - loss: 8.3411e-04 - val_loss: 0.0019\n",
      "Epoch 75/100\n",
      "9/9 [==============================] - 2s 226ms/step - loss: 7.8782e-04 - val_loss: 0.0023\n",
      "Epoch 76/100\n",
      "9/9 [==============================] - 2s 222ms/step - loss: 8.7472e-04 - val_loss: 0.0018\n",
      "Epoch 77/100\n",
      "9/9 [==============================] - 2s 225ms/step - loss: 7.8766e-04 - val_loss: 0.0026\n",
      "Epoch 78/100\n",
      "9/9 [==============================] - 2s 224ms/step - loss: 7.6767e-04 - val_loss: 0.0018\n",
      "Epoch 79/100\n",
      "9/9 [==============================] - 2s 223ms/step - loss: 7.8558e-04 - val_loss: 0.0029\n",
      "Epoch 80/100\n",
      "9/9 [==============================] - 2s 224ms/step - loss: 7.6958e-04 - val_loss: 0.0018\n",
      "Epoch 81/100\n",
      "9/9 [==============================] - 2s 223ms/step - loss: 7.0572e-04 - val_loss: 0.0030\n",
      "Epoch 82/100\n"
     ]
    },
    {
     "name": "stdout",
     "output_type": "stream",
     "text": [
      "9/9 [==============================] - 2s 224ms/step - loss: 7.0850e-04 - val_loss: 0.0020\n",
      "Epoch 83/100\n",
      "9/9 [==============================] - 2s 219ms/step - loss: 7.7616e-04 - val_loss: 0.0019\n",
      "Epoch 84/100\n",
      "9/9 [==============================] - 2s 222ms/step - loss: 7.9554e-04 - val_loss: 0.0029\n",
      "Epoch 85/100\n",
      "9/9 [==============================] - 2s 223ms/step - loss: 7.2040e-04 - val_loss: 0.0020\n",
      "Epoch 86/100\n",
      "9/9 [==============================] - 2s 223ms/step - loss: 6.5826e-04 - val_loss: 0.0026\n",
      "Epoch 87/100\n",
      "9/9 [==============================] - 2s 251ms/step - loss: 6.6722e-04 - val_loss: 0.0021\n",
      "Epoch 88/100\n",
      "9/9 [==============================] - 2s 255ms/step - loss: 6.2881e-04 - val_loss: 0.0021\n",
      "Epoch 89/100\n",
      "9/9 [==============================] - 2s 246ms/step - loss: 6.7043e-04 - val_loss: 0.0030\n",
      "Epoch 90/100\n",
      "9/9 [==============================] - 2s 222ms/step - loss: 6.8171e-04 - val_loss: 0.0021\n",
      "Epoch 91/100\n",
      "9/9 [==============================] - 2s 221ms/step - loss: 6.5567e-04 - val_loss: 0.0022\n",
      "Epoch 92/100\n",
      "9/9 [==============================] - 2s 225ms/step - loss: 6.4125e-04 - val_loss: 0.0022\n",
      "Epoch 93/100\n",
      "9/9 [==============================] - 2s 223ms/step - loss: 6.7353e-04 - val_loss: 0.0026\n",
      "Epoch 94/100\n",
      "9/9 [==============================] - 2s 223ms/step - loss: 6.8130e-04 - val_loss: 0.0022\n",
      "Epoch 95/100\n",
      "9/9 [==============================] - 2s 233ms/step - loss: 6.1491e-04 - val_loss: 0.0026\n",
      "Epoch 96/100\n",
      "9/9 [==============================] - 2s 235ms/step - loss: 6.4352e-04 - val_loss: 0.0022\n",
      "Epoch 97/100\n",
      "9/9 [==============================] - 2s 234ms/step - loss: 6.1935e-04 - val_loss: 0.0023\n",
      "Epoch 98/100\n",
      "9/9 [==============================] - 2s 229ms/step - loss: 6.2235e-04 - val_loss: 0.0034\n",
      "Epoch 99/100\n",
      "9/9 [==============================] - 2s 228ms/step - loss: 8.2887e-04 - val_loss: 0.0026\n",
      "Epoch 100/100\n",
      "9/9 [==============================] - 2s 234ms/step - loss: 6.6584e-04 - val_loss: 0.0028\n"
     ]
    },
    {
     "data": {
      "text/plain": [
       "<keras.callbacks.History at 0x19c295c73d0>"
      ]
     },
     "execution_count": 39,
     "metadata": {},
     "output_type": "execute_result"
    }
   ],
   "source": [
    "model.fit(X_train,y_train,validation_data=(X_test,ytest),epochs=100,batch_size=64,verbose=1)"
   ]
  },
  {
   "cell_type": "code",
   "execution_count": 40,
   "id": "8890c281",
   "metadata": {},
   "outputs": [],
   "source": [
    "import tensorflow as tf"
   ]
  },
  {
   "cell_type": "code",
   "execution_count": 41,
   "id": "b907a6a6",
   "metadata": {},
   "outputs": [
    {
     "data": {
      "text/plain": [
       "'2.9.1'"
      ]
     },
     "execution_count": 41,
     "metadata": {},
     "output_type": "execute_result"
    }
   ],
   "source": [
    "tf.__version__"
   ]
  },
  {
   "cell_type": "code",
   "execution_count": 42,
   "id": "19ca1101",
   "metadata": {},
   "outputs": [
    {
     "name": "stdout",
     "output_type": "stream",
     "text": [
      "18/18 [==============================] - 4s 51ms/step\n",
      "8/8 [==============================] - 0s 48ms/step\n"
     ]
    }
   ],
   "source": [
    "train_predict=model.predict(X_train)\n",
    "test_predict=model.predict(X_test)"
   ]
  },
  {
   "cell_type": "code",
   "execution_count": 43,
   "id": "296c2d94",
   "metadata": {},
   "outputs": [],
   "source": [
    "train_predict=scaler.inverse_transform(train_predict)\n",
    "test_predict=scaler.inverse_transform(test_predict)"
   ]
  },
  {
   "cell_type": "code",
   "execution_count": 44,
   "id": "caa361a4",
   "metadata": {},
   "outputs": [
    {
     "data": {
      "text/plain": [
       "357.9914729514776"
      ]
     },
     "execution_count": 44,
     "metadata": {},
     "output_type": "execute_result"
    }
   ],
   "source": [
    "import math\n",
    "from sklearn.metrics import mean_squared_error\n",
    "math.sqrt(mean_squared_error(y_train,train_predict))"
   ]
  },
  {
   "cell_type": "code",
   "execution_count": 45,
   "id": "0b297de9",
   "metadata": {},
   "outputs": [
    {
     "data": {
      "text/plain": [
       "546.3650026352805"
      ]
     },
     "execution_count": 45,
     "metadata": {},
     "output_type": "execute_result"
    }
   ],
   "source": [
    "math.sqrt(mean_squared_error(ytest,test_predict))"
   ]
  },
  {
   "cell_type": "code",
   "execution_count": 46,
   "id": "208df850",
   "metadata": {},
   "outputs": [
    {
     "data": {
      "image/png": "[encoded data removed]",
      "text/plain": [
       "<Figure size 432x288 with 1 Axes>"
      ]
     },
     "metadata": {
      "needs_background": "light"
     },
     "output_type": "display_data"
    }
   ],
   "source": [
    "look_back=100\n",
    "trainPredictPlot = numpy.empty_like(df1)\n",
    "trainPredictPlot[:, :] = np.nan\n",
    "trainPredictPlot[look_back:len(train_predict)+look_back, :] = train_predict\n",
    "# shift test predictions for plotting\n",
    "testPredictPlot = numpy.empty_like(df1)\n",
    "testPredictPlot[:, :] = numpy.nan\n",
    "testPredictPlot[len(train_predict)+(look_back*2)+1:len(df1)-1, :] = test_predict\n",
    "# plot baseline and predictions\n",
    "plt.plot(scaler.inverse_transform(df1))\n",
    "plt.plot(trainPredictPlot)\n",
    "plt.plot(testPredictPlot)\n",
    "plt.show()"
   ]
  },
  {
   "cell_type": "code",
   "execution_count": 47,
   "id": "a97a3227",
   "metadata": {},
   "outputs": [
    {
     "data": {
      "text/plain": [
       "354"
      ]
     },
     "execution_count": 47,
     "metadata": {},
     "output_type": "execute_result"
    }
   ],
   "source": [
    "len(test_data)"
   ]
  },
  {
   "cell_type": "code",
   "execution_count": 48,
   "id": "4502a40a",
   "metadata": {},
   "outputs": [
    {
     "data": {
      "text/plain": [
       "(1, 100)"
      ]
     },
     "execution_count": 48,
     "metadata": {},
     "output_type": "execute_result"
    }
   ],
   "source": [
    "x_input=test_data[254:].reshape(1,-1)\n",
    "x_input.shape"
   ]
  },
  {
   "cell_type": "code",
   "execution_count": 49,
   "id": "052f3a89",
   "metadata": {},
   "outputs": [],
   "source": [
    "temp_input=list(x_input)\n",
    "temp_input=temp_input[0].tolist()"
   ]
  },
  {
   "cell_type": "code",
   "execution_count": 51,
   "id": "06d0a372",
   "metadata": {},
   "outputs": [
    {
     "name": "stdout",
     "output_type": "stream",
     "text": [
      "[0.44757634]\n",
      "101\n",
      "1 day input [0.77023219 0.77645742 0.74605183 0.74104981 0.77929713 0.78499816\n",
      " 0.78309782 0.7836439  0.76444371 0.79766714 0.82230625 0.82844416\n",
      " 0.8070378  0.87575631 0.88512696 0.8692907  0.87105998 0.85878416\n",
      " 0.85419716 0.86472556 0.87355013 0.86151455 0.88265868 0.88490858\n",
      " 0.85463405 0.91583838 0.94122022 0.95624816 0.94938952 0.93715729\n",
      " 0.9614687  0.99698564 0.97702099 0.96948509 0.99257329 0.94912741\n",
      " 0.8995871  0.9121033  0.92202003 0.90218643 0.92549314 0.98016641\n",
      " 0.97300193 0.99062935 1.         0.97887774 0.97184418 0.92903172\n",
      " 0.91780432 0.92704392 0.94309869 0.93916696 0.89124314 0.83853568\n",
      " 0.83569596 0.804373   0.82743933 0.85559515 0.86105593 0.82374784\n",
      " 0.82518942 0.80968086 0.79532991 0.81072929 0.78019265 0.77073453\n",
      " 0.78604659 0.81046718 0.83082499 0.83049742 0.82837857 0.82311443\n",
      " 0.82274301 0.8261288  0.80505013 0.79397565 0.78038929 0.72877398\n",
      " 0.69769113 0.67097703 0.66833397 0.67049655 0.66258921 0.623228\n",
      " 0.63740416 0.60487972 0.61593233 0.59930975 0.35739716 0.33478952\n",
      " 0.28950877 0.27483019 0.33380662 0.32869527 0.42214021 0.48764772\n",
      " 0.4272515  0.37509011 0.38507243 0.44757634]\n",
      "1 day output [[0.45616198]]\n",
      "2 day input [0.77645742 0.74605183 0.74104981 0.77929713 0.78499816 0.78309782\n",
      " 0.7836439  0.76444371 0.79766714 0.82230625 0.82844416 0.8070378\n",
      " 0.87575631 0.88512696 0.8692907  0.87105998 0.85878416 0.85419716\n",
      " 0.86472556 0.87355013 0.86151455 0.88265868 0.88490858 0.85463405\n",
      " 0.91583838 0.94122022 0.95624816 0.94938952 0.93715729 0.9614687\n",
      " 0.99698564 0.97702099 0.96948509 0.99257329 0.94912741 0.8995871\n",
      " 0.9121033  0.92202003 0.90218643 0.92549314 0.98016641 0.97300193\n",
      " 0.99062935 1.         0.97887774 0.97184418 0.92903172 0.91780432\n",
      " 0.92704392 0.94309869 0.93916696 0.89124314 0.83853568 0.83569596\n",
      " 0.804373   0.82743933 0.85559515 0.86105593 0.82374784 0.82518942\n",
      " 0.80968086 0.79532991 0.81072929 0.78019265 0.77073453 0.78604659\n",
      " 0.81046718 0.83082499 0.83049742 0.82837857 0.82311443 0.82274301\n",
      " 0.8261288  0.80505013 0.79397565 0.78038929 0.72877398 0.69769113\n",
      " 0.67097703 0.66833397 0.67049655 0.66258921 0.623228   0.63740416\n",
      " 0.60487972 0.61593233 0.59930975 0.35739716 0.33478952 0.28950877\n",
      " 0.27483019 0.33380662 0.32869527 0.42214021 0.48764772 0.4272515\n",
      " 0.37509011 0.38507243 0.44757634 0.45616198]\n",
      "2 day output [[0.48737544]]\n",
      "3 day input [0.74605183 0.74104981 0.77929713 0.78499816 0.78309782 0.7836439\n",
      " 0.76444371 0.79766714 0.82230625 0.82844416 0.8070378  0.87575631\n",
      " 0.88512696 0.8692907  0.87105998 0.85878416 0.85419716 0.86472556\n",
      " 0.87355013 0.86151455 0.88265868 0.88490858 0.85463405 0.91583838\n",
      " 0.94122022 0.95624816 0.94938952 0.93715729 0.9614687  0.99698564\n",
      " 0.97702099 0.96948509 0.99257329 0.94912741 0.8995871  0.9121033\n",
      " 0.92202003 0.90218643 0.92549314 0.98016641 0.97300193 0.99062935\n",
      " 1.         0.97887774 0.97184418 0.92903172 0.91780432 0.92704392\n",
      " 0.94309869 0.93916696 0.89124314 0.83853568 0.83569596 0.804373\n",
      " 0.82743933 0.85559515 0.86105593 0.82374784 0.82518942 0.80968086\n",
      " 0.79532991 0.81072929 0.78019265 0.77073453 0.78604659 0.81046718\n",
      " 0.83082499 0.83049742 0.82837857 0.82311443 0.82274301 0.8261288\n",
      " 0.80505013 0.79397565 0.78038929 0.72877398 0.69769113 0.67097703\n",
      " 0.66833397 0.67049655 0.66258921 0.623228   0.63740416 0.60487972\n",
      " 0.61593233 0.59930975 0.35739716 0.33478952 0.28950877 0.27483019\n",
      " 0.33380662 0.32869527 0.42214021 0.48764772 0.4272515  0.37509011\n",
      " 0.38507243 0.44757634 0.45616198 0.48737544]\n",
      "3 day output [[0.52316636]]\n",
      "4 day input [0.74104981 0.77929713 0.78499816 0.78309782 0.7836439  0.76444371\n",
      " 0.79766714 0.82230625 0.82844416 0.8070378  0.87575631 0.88512696\n",
      " 0.8692907  0.87105998 0.85878416 0.85419716 0.86472556 0.87355013\n",
      " 0.86151455 0.88265868 0.88490858 0.85463405 0.91583838 0.94122022\n",
      " 0.95624816 0.94938952 0.93715729 0.9614687  0.99698564 0.97702099\n",
      " 0.96948509 0.99257329 0.94912741 0.8995871  0.9121033  0.92202003\n",
      " 0.90218643 0.92549314 0.98016641 0.97300193 0.99062935 1.\n",
      " 0.97887774 0.97184418 0.92903172 0.91780432 0.92704392 0.94309869\n",
      " 0.93916696 0.89124314 0.83853568 0.83569596 0.804373   0.82743933\n",
      " 0.85559515 0.86105593 0.82374784 0.82518942 0.80968086 0.79532991\n",
      " 0.81072929 0.78019265 0.77073453 0.78604659 0.81046718 0.83082499\n",
      " 0.83049742 0.82837857 0.82311443 0.82274301 0.8261288  0.80505013\n",
      " 0.79397565 0.78038929 0.72877398 0.69769113 0.67097703 0.66833397\n",
      " 0.67049655 0.66258921 0.623228   0.63740416 0.60487972 0.61593233\n",
      " 0.59930975 0.35739716 0.33478952 0.28950877 0.27483019 0.33380662\n",
      " 0.32869527 0.42214021 0.48764772 0.4272515  0.37509011 0.38507243\n",
      " 0.44757634 0.45616198 0.48737544 0.52316636]\n",
      "4 day output [[0.5579775]]\n",
      "5 day input [0.77929713 0.78499816 0.78309782 0.7836439  0.76444371 0.79766714\n",
      " 0.82230625 0.82844416 0.8070378  0.87575631 0.88512696 0.8692907\n",
      " 0.87105998 0.85878416 0.85419716 0.86472556 0.87355013 0.86151455\n",
      " 0.88265868 0.88490858 0.85463405 0.91583838 0.94122022 0.95624816\n",
      " 0.94938952 0.93715729 0.9614687  0.99698564 0.97702099 0.96948509\n",
      " 0.99257329 0.94912741 0.8995871  0.9121033  0.92202003 0.90218643\n",
      " 0.92549314 0.98016641 0.97300193 0.99062935 1.         0.97887774\n",
      " 0.97184418 0.92903172 0.91780432 0.92704392 0.94309869 0.93916696\n",
      " 0.89124314 0.83853568 0.83569596 0.804373   0.82743933 0.85559515\n",
      " 0.86105593 0.82374784 0.82518942 0.80968086 0.79532991 0.81072929\n",
      " 0.78019265 0.77073453 0.78604659 0.81046718 0.83082499 0.83049742\n",
      " 0.82837857 0.82311443 0.82274301 0.8261288  0.80505013 0.79397565\n",
      " 0.78038929 0.72877398 0.69769113 0.67097703 0.66833397 0.67049655\n",
      " 0.66258921 0.623228   0.63740416 0.60487972 0.61593233 0.59930975\n",
      " 0.35739716 0.33478952 0.28950877 0.27483019 0.33380662 0.32869527\n",
      " 0.42214021 0.48764772 0.4272515  0.37509011 0.38507243 0.44757634\n",
      " 0.45616198 0.48737544 0.52316636 0.5579775 ]\n",
      "5 day output [[0.58971435]]\n",
      "6 day input [0.78499816 0.78309782 0.7836439  0.76444371 0.79766714 0.82230625\n",
      " 0.82844416 0.8070378  0.87575631 0.88512696 0.8692907  0.87105998\n",
      " 0.85878416 0.85419716 0.86472556 0.87355013 0.86151455 0.88265868\n",
      " 0.88490858 0.85463405 0.91583838 0.94122022 0.95624816 0.94938952\n",
      " 0.93715729 0.9614687  0.99698564 0.97702099 0.96948509 0.99257329\n",
      " 0.94912741 0.8995871  0.9121033  0.92202003 0.90218643 0.92549314\n",
      " 0.98016641 0.97300193 0.99062935 1.         0.97887774 0.97184418\n",
      " 0.92903172 0.91780432 0.92704392 0.94309869 0.93916696 0.89124314\n",
      " 0.83853568 0.83569596 0.804373   0.82743933 0.85559515 0.86105593\n",
      " 0.82374784 0.82518942 0.80968086 0.79532991 0.81072929 0.78019265\n",
      " 0.77073453 0.78604659 0.81046718 0.83082499 0.83049742 0.82837857\n",
      " 0.82311443 0.82274301 0.8261288  0.80505013 0.79397565 0.78038929\n",
      " 0.72877398 0.69769113 0.67097703 0.66833397 0.67049655 0.66258921\n",
      " 0.623228   0.63740416 0.60487972 0.61593233 0.59930975 0.35739716\n",
      " 0.33478952 0.28950877 0.27483019 0.33380662 0.32869527 0.42214021\n",
      " 0.48764772 0.4272515  0.37509011 0.38507243 0.44757634 0.45616198\n",
      " 0.48737544 0.52316636 0.5579775  0.58971435]\n",
      "6 day output [[0.6168364]]\n",
      "7 day input [0.78309782 0.7836439  0.76444371 0.79766714 0.82230625 0.82844416\n",
      " 0.8070378  0.87575631 0.88512696 0.8692907  0.87105998 0.85878416\n",
      " 0.85419716 0.86472556 0.87355013 0.86151455 0.88265868 0.88490858\n",
      " 0.85463405 0.91583838 0.94122022 0.95624816 0.94938952 0.93715729\n",
      " 0.9614687  0.99698564 0.97702099 0.96948509 0.99257329 0.94912741\n",
      " 0.8995871  0.9121033  0.92202003 0.90218643 0.92549314 0.98016641\n",
      " 0.97300193 0.99062935 1.         0.97887774 0.97184418 0.92903172\n",
      " 0.91780432 0.92704392 0.94309869 0.93916696 0.89124314 0.83853568\n",
      " 0.83569596 0.804373   0.82743933 0.85559515 0.86105593 0.82374784\n",
      " 0.82518942 0.80968086 0.79532991 0.81072929 0.78019265 0.77073453\n",
      " 0.78604659 0.81046718 0.83082499 0.83049742 0.82837857 0.82311443\n",
      " 0.82274301 0.8261288  0.80505013 0.79397565 0.78038929 0.72877398\n",
      " 0.69769113 0.67097703 0.66833397 0.67049655 0.66258921 0.623228\n",
      " 0.63740416 0.60487972 0.61593233 0.59930975 0.35739716 0.33478952\n",
      " 0.28950877 0.27483019 0.33380662 0.32869527 0.42214021 0.48764772\n",
      " 0.4272515  0.37509011 0.38507243 0.44757634 0.45616198 0.48737544\n",
      " 0.52316636 0.5579775  0.58971435 0.61683643]\n",
      "7 day output [[0.6382041]]\n",
      "8 day input [0.7836439  0.76444371 0.79766714 0.82230625 0.82844416 0.8070378\n",
      " 0.87575631 0.88512696 0.8692907  0.87105998 0.85878416 0.85419716\n",
      " 0.86472556 0.87355013 0.86151455 0.88265868 0.88490858 0.85463405\n",
      " 0.91583838 0.94122022 0.95624816 0.94938952 0.93715729 0.9614687\n",
      " 0.99698564 0.97702099 0.96948509 0.99257329 0.94912741 0.8995871\n",
      " 0.9121033  0.92202003 0.90218643 0.92549314 0.98016641 0.97300193\n",
      " 0.99062935 1.         0.97887774 0.97184418 0.92903172 0.91780432\n",
      " 0.92704392 0.94309869 0.93916696 0.89124314 0.83853568 0.83569596\n",
      " 0.804373   0.82743933 0.85559515 0.86105593 0.82374784 0.82518942\n",
      " 0.80968086 0.79532991 0.81072929 0.78019265 0.77073453 0.78604659\n",
      " 0.81046718 0.83082499 0.83049742 0.82837857 0.82311443 0.82274301\n",
      " 0.8261288  0.80505013 0.79397565 0.78038929 0.72877398 0.69769113\n",
      " 0.67097703 0.66833397 0.67049655 0.66258921 0.623228   0.63740416\n",
      " 0.60487972 0.61593233 0.59930975 0.35739716 0.33478952 0.28950877\n",
      " 0.27483019 0.33380662 0.32869527 0.42214021 0.48764772 0.4272515\n",
      " 0.37509011 0.38507243 0.44757634 0.45616198 0.48737544 0.52316636\n",
      " 0.5579775  0.58971435 0.61683643 0.6382041 ]\n"
     ]
    },
    {
     "name": "stdout",
     "output_type": "stream",
     "text": [
      "8 day output [[0.65340906]]\n",
      "9 day input [0.76444371 0.79766714 0.82230625 0.82844416 0.8070378  0.87575631\n",
      " 0.88512696 0.8692907  0.87105998 0.85878416 0.85419716 0.86472556\n",
      " 0.87355013 0.86151455 0.88265868 0.88490858 0.85463405 0.91583838\n",
      " 0.94122022 0.95624816 0.94938952 0.93715729 0.9614687  0.99698564\n",
      " 0.97702099 0.96948509 0.99257329 0.94912741 0.8995871  0.9121033\n",
      " 0.92202003 0.90218643 0.92549314 0.98016641 0.97300193 0.99062935\n",
      " 1.         0.97887774 0.97184418 0.92903172 0.91780432 0.92704392\n",
      " 0.94309869 0.93916696 0.89124314 0.83853568 0.83569596 0.804373\n",
      " 0.82743933 0.85559515 0.86105593 0.82374784 0.82518942 0.80968086\n",
      " 0.79532991 0.81072929 0.78019265 0.77073453 0.78604659 0.81046718\n",
      " 0.83082499 0.83049742 0.82837857 0.82311443 0.82274301 0.8261288\n",
      " 0.80505013 0.79397565 0.78038929 0.72877398 0.69769113 0.67097703\n",
      " 0.66833397 0.67049655 0.66258921 0.623228   0.63740416 0.60487972\n",
      " 0.61593233 0.59930975 0.35739716 0.33478952 0.28950877 0.27483019\n",
      " 0.33380662 0.32869527 0.42214021 0.48764772 0.4272515  0.37509011\n",
      " 0.38507243 0.44757634 0.45616198 0.48737544 0.52316636 0.5579775\n",
      " 0.58971435 0.61683643 0.6382041  0.65340906]\n",
      "9 day output [[0.6628879]]\n",
      "10 day input [0.79766714 0.82230625 0.82844416 0.8070378  0.87575631 0.88512696\n",
      " 0.8692907  0.87105998 0.85878416 0.85419716 0.86472556 0.87355013\n",
      " 0.86151455 0.88265868 0.88490858 0.85463405 0.91583838 0.94122022\n",
      " 0.95624816 0.94938952 0.93715729 0.9614687  0.99698564 0.97702099\n",
      " 0.96948509 0.99257329 0.94912741 0.8995871  0.9121033  0.92202003\n",
      " 0.90218643 0.92549314 0.98016641 0.97300193 0.99062935 1.\n",
      " 0.97887774 0.97184418 0.92903172 0.91780432 0.92704392 0.94309869\n",
      " 0.93916696 0.89124314 0.83853568 0.83569596 0.804373   0.82743933\n",
      " 0.85559515 0.86105593 0.82374784 0.82518942 0.80968086 0.79532991\n",
      " 0.81072929 0.78019265 0.77073453 0.78604659 0.81046718 0.83082499\n",
      " 0.83049742 0.82837857 0.82311443 0.82274301 0.8261288  0.80505013\n",
      " 0.79397565 0.78038929 0.72877398 0.69769113 0.67097703 0.66833397\n",
      " 0.67049655 0.66258921 0.623228   0.63740416 0.60487972 0.61593233\n",
      " 0.59930975 0.35739716 0.33478952 0.28950877 0.27483019 0.33380662\n",
      " 0.32869527 0.42214021 0.48764772 0.4272515  0.37509011 0.38507243\n",
      " 0.44757634 0.45616198 0.48737544 0.52316636 0.5579775  0.58971435\n",
      " 0.61683643 0.6382041  0.65340906 0.66288787]\n",
      "10 day output [[0.6677568]]\n",
      "11 day input [0.82230625 0.82844416 0.8070378  0.87575631 0.88512696 0.8692907\n",
      " 0.87105998 0.85878416 0.85419716 0.86472556 0.87355013 0.86151455\n",
      " 0.88265868 0.88490858 0.85463405 0.91583838 0.94122022 0.95624816\n",
      " 0.94938952 0.93715729 0.9614687  0.99698564 0.97702099 0.96948509\n",
      " 0.99257329 0.94912741 0.8995871  0.9121033  0.92202003 0.90218643\n",
      " 0.92549314 0.98016641 0.97300193 0.99062935 1.         0.97887774\n",
      " 0.97184418 0.92903172 0.91780432 0.92704392 0.94309869 0.93916696\n",
      " 0.89124314 0.83853568 0.83569596 0.804373   0.82743933 0.85559515\n",
      " 0.86105593 0.82374784 0.82518942 0.80968086 0.79532991 0.81072929\n",
      " 0.78019265 0.77073453 0.78604659 0.81046718 0.83082499 0.83049742\n",
      " 0.82837857 0.82311443 0.82274301 0.8261288  0.80505013 0.79397565\n",
      " 0.78038929 0.72877398 0.69769113 0.67097703 0.66833397 0.67049655\n",
      " 0.66258921 0.623228   0.63740416 0.60487972 0.61593233 0.59930975\n",
      " 0.35739716 0.33478952 0.28950877 0.27483019 0.33380662 0.32869527\n",
      " 0.42214021 0.48764772 0.4272515  0.37509011 0.38507243 0.44757634\n",
      " 0.45616198 0.48737544 0.52316636 0.5579775  0.58971435 0.61683643\n",
      " 0.6382041  0.65340906 0.66288787 0.6677568 ]\n",
      "11 day output [[0.66948044]]\n",
      "12 day input [0.82844416 0.8070378  0.87575631 0.88512696 0.8692907  0.87105998\n",
      " 0.85878416 0.85419716 0.86472556 0.87355013 0.86151455 0.88265868\n",
      " 0.88490858 0.85463405 0.91583838 0.94122022 0.95624816 0.94938952\n",
      " 0.93715729 0.9614687  0.99698564 0.97702099 0.96948509 0.99257329\n",
      " 0.94912741 0.8995871  0.9121033  0.92202003 0.90218643 0.92549314\n",
      " 0.98016641 0.97300193 0.99062935 1.         0.97887774 0.97184418\n",
      " 0.92903172 0.91780432 0.92704392 0.94309869 0.93916696 0.89124314\n",
      " 0.83853568 0.83569596 0.804373   0.82743933 0.85559515 0.86105593\n",
      " 0.82374784 0.82518942 0.80968086 0.79532991 0.81072929 0.78019265\n",
      " 0.77073453 0.78604659 0.81046718 0.83082499 0.83049742 0.82837857\n",
      " 0.82311443 0.82274301 0.8261288  0.80505013 0.79397565 0.78038929\n",
      " 0.72877398 0.69769113 0.67097703 0.66833397 0.67049655 0.66258921\n",
      " 0.623228   0.63740416 0.60487972 0.61593233 0.59930975 0.35739716\n",
      " 0.33478952 0.28950877 0.27483019 0.33380662 0.32869527 0.42214021\n",
      " 0.48764772 0.4272515  0.37509011 0.38507243 0.44757634 0.45616198\n",
      " 0.48737544 0.52316636 0.5579775  0.58971435 0.61683643 0.6382041\n",
      " 0.65340906 0.66288787 0.6677568  0.66948044]\n",
      "12 day output [[0.6694943]]\n",
      "13 day input [0.8070378  0.87575631 0.88512696 0.8692907  0.87105998 0.85878416\n",
      " 0.85419716 0.86472556 0.87355013 0.86151455 0.88265868 0.88490858\n",
      " 0.85463405 0.91583838 0.94122022 0.95624816 0.94938952 0.93715729\n",
      " 0.9614687  0.99698564 0.97702099 0.96948509 0.99257329 0.94912741\n",
      " 0.8995871  0.9121033  0.92202003 0.90218643 0.92549314 0.98016641\n",
      " 0.97300193 0.99062935 1.         0.97887774 0.97184418 0.92903172\n",
      " 0.91780432 0.92704392 0.94309869 0.93916696 0.89124314 0.83853568\n",
      " 0.83569596 0.804373   0.82743933 0.85559515 0.86105593 0.82374784\n",
      " 0.82518942 0.80968086 0.79532991 0.81072929 0.78019265 0.77073453\n",
      " 0.78604659 0.81046718 0.83082499 0.83049742 0.82837857 0.82311443\n",
      " 0.82274301 0.8261288  0.80505013 0.79397565 0.78038929 0.72877398\n",
      " 0.69769113 0.67097703 0.66833397 0.67049655 0.66258921 0.623228\n",
      " 0.63740416 0.60487972 0.61593233 0.59930975 0.35739716 0.33478952\n",
      " 0.28950877 0.27483019 0.33380662 0.32869527 0.42214021 0.48764772\n",
      " 0.4272515  0.37509011 0.38507243 0.44757634 0.45616198 0.48737544\n",
      " 0.52316636 0.5579775  0.58971435 0.61683643 0.6382041  0.65340906\n",
      " 0.66288787 0.6677568  0.66948044 0.66949427]\n",
      "13 day output [[0.66888916]]\n",
      "14 day input [0.87575631 0.88512696 0.8692907  0.87105998 0.85878416 0.85419716\n",
      " 0.86472556 0.87355013 0.86151455 0.88265868 0.88490858 0.85463405\n",
      " 0.91583838 0.94122022 0.95624816 0.94938952 0.93715729 0.9614687\n",
      " 0.99698564 0.97702099 0.96948509 0.99257329 0.94912741 0.8995871\n",
      " 0.9121033  0.92202003 0.90218643 0.92549314 0.98016641 0.97300193\n",
      " 0.99062935 1.         0.97887774 0.97184418 0.92903172 0.91780432\n",
      " 0.92704392 0.94309869 0.93916696 0.89124314 0.83853568 0.83569596\n",
      " 0.804373   0.82743933 0.85559515 0.86105593 0.82374784 0.82518942\n",
      " 0.80968086 0.79532991 0.81072929 0.78019265 0.77073453 0.78604659\n",
      " 0.81046718 0.83082499 0.83049742 0.82837857 0.82311443 0.82274301\n",
      " 0.8261288  0.80505013 0.79397565 0.78038929 0.72877398 0.69769113\n",
      " 0.67097703 0.66833397 0.67049655 0.66258921 0.623228   0.63740416\n",
      " 0.60487972 0.61593233 0.59930975 0.35739716 0.33478952 0.28950877\n",
      " 0.27483019 0.33380662 0.32869527 0.42214021 0.48764772 0.4272515\n",
      " 0.37509011 0.38507243 0.44757634 0.45616198 0.48737544 0.52316636\n",
      " 0.5579775  0.58971435 0.61683643 0.6382041  0.65340906 0.66288787\n",
      " 0.6677568  0.66948044 0.66949427 0.66888916]\n",
      "14 day output [[0.6682198]]\n",
      "15 day input [0.88512696 0.8692907  0.87105998 0.85878416 0.85419716 0.86472556\n",
      " 0.87355013 0.86151455 0.88265868 0.88490858 0.85463405 0.91583838\n",
      " 0.94122022 0.95624816 0.94938952 0.93715729 0.9614687  0.99698564\n",
      " 0.97702099 0.96948509 0.99257329 0.94912741 0.8995871  0.9121033\n",
      " 0.92202003 0.90218643 0.92549314 0.98016641 0.97300193 0.99062935\n",
      " 1.         0.97887774 0.97184418 0.92903172 0.91780432 0.92704392\n",
      " 0.94309869 0.93916696 0.89124314 0.83853568 0.83569596 0.804373\n",
      " 0.82743933 0.85559515 0.86105593 0.82374784 0.82518942 0.80968086\n",
      " 0.79532991 0.81072929 0.78019265 0.77073453 0.78604659 0.81046718\n",
      " 0.83082499 0.83049742 0.82837857 0.82311443 0.82274301 0.8261288\n",
      " 0.80505013 0.79397565 0.78038929 0.72877398 0.69769113 0.67097703\n",
      " 0.66833397 0.67049655 0.66258921 0.623228   0.63740416 0.60487972\n",
      " 0.61593233 0.59930975 0.35739716 0.33478952 0.28950877 0.27483019\n",
      " 0.33380662 0.32869527 0.42214021 0.48764772 0.4272515  0.37509011\n",
      " 0.38507243 0.44757634 0.45616198 0.48737544 0.52316636 0.5579775\n",
      " 0.58971435 0.61683643 0.6382041  0.65340906 0.66288787 0.6677568\n",
      " 0.66948044 0.66949427 0.66888916 0.6682198 ]\n",
      "15 day output [[0.6674676]]\n",
      "16 day input [0.8692907  0.87105998 0.85878416 0.85419716 0.86472556 0.87355013\n",
      " 0.86151455 0.88265868 0.88490858 0.85463405 0.91583838 0.94122022\n",
      " 0.95624816 0.94938952 0.93715729 0.9614687  0.99698564 0.97702099\n",
      " 0.96948509 0.99257329 0.94912741 0.8995871  0.9121033  0.92202003\n",
      " 0.90218643 0.92549314 0.98016641 0.97300193 0.99062935 1.\n",
      " 0.97887774 0.97184418 0.92903172 0.91780432 0.92704392 0.94309869\n",
      " 0.93916696 0.89124314 0.83853568 0.83569596 0.804373   0.82743933\n",
      " 0.85559515 0.86105593 0.82374784 0.82518942 0.80968086 0.79532991\n",
      " 0.81072929 0.78019265 0.77073453 0.78604659 0.81046718 0.83082499\n",
      " 0.83049742 0.82837857 0.82311443 0.82274301 0.8261288  0.80505013\n",
      " 0.79397565 0.78038929 0.72877398 0.69769113 0.67097703 0.66833397\n",
      " 0.67049655 0.66258921 0.623228   0.63740416 0.60487972 0.61593233\n",
      " 0.59930975 0.35739716 0.33478952 0.28950877 0.27483019 0.33380662\n",
      " 0.32869527 0.42214021 0.48764772 0.4272515  0.37509011 0.38507243\n",
      " 0.44757634 0.45616198 0.48737544 0.52316636 0.5579775  0.58971435\n",
      " 0.61683643 0.6382041  0.65340906 0.66288787 0.6677568  0.66948044\n",
      " 0.66949427 0.66888916 0.6682198  0.66746759]\n"
     ]
    },
    {
     "name": "stdout",
     "output_type": "stream",
     "text": [
      "16 day output [[0.6661382]]\n",
      "17 day input [0.87105998 0.85878416 0.85419716 0.86472556 0.87355013 0.86151455\n",
      " 0.88265868 0.88490858 0.85463405 0.91583838 0.94122022 0.95624816\n",
      " 0.94938952 0.93715729 0.9614687  0.99698564 0.97702099 0.96948509\n",
      " 0.99257329 0.94912741 0.8995871  0.9121033  0.92202003 0.90218643\n",
      " 0.92549314 0.98016641 0.97300193 0.99062935 1.         0.97887774\n",
      " 0.97184418 0.92903172 0.91780432 0.92704392 0.94309869 0.93916696\n",
      " 0.89124314 0.83853568 0.83569596 0.804373   0.82743933 0.85559515\n",
      " 0.86105593 0.82374784 0.82518942 0.80968086 0.79532991 0.81072929\n",
      " 0.78019265 0.77073453 0.78604659 0.81046718 0.83082499 0.83049742\n",
      " 0.82837857 0.82311443 0.82274301 0.8261288  0.80505013 0.79397565\n",
      " 0.78038929 0.72877398 0.69769113 0.67097703 0.66833397 0.67049655\n",
      " 0.66258921 0.623228   0.63740416 0.60487972 0.61593233 0.59930975\n",
      " 0.35739716 0.33478952 0.28950877 0.27483019 0.33380662 0.32869527\n",
      " 0.42214021 0.48764772 0.4272515  0.37509011 0.38507243 0.44757634\n",
      " 0.45616198 0.48737544 0.52316636 0.5579775  0.58971435 0.61683643\n",
      " 0.6382041  0.65340906 0.66288787 0.6677568  0.66948044 0.66949427\n",
      " 0.66888916 0.6682198  0.66746759 0.66613817]\n",
      "17 day output [[0.6634585]]\n",
      "18 day input [0.85878416 0.85419716 0.86472556 0.87355013 0.86151455 0.88265868\n",
      " 0.88490858 0.85463405 0.91583838 0.94122022 0.95624816 0.94938952\n",
      " 0.93715729 0.9614687  0.99698564 0.97702099 0.96948509 0.99257329\n",
      " 0.94912741 0.8995871  0.9121033  0.92202003 0.90218643 0.92549314\n",
      " 0.98016641 0.97300193 0.99062935 1.         0.97887774 0.97184418\n",
      " 0.92903172 0.91780432 0.92704392 0.94309869 0.93916696 0.89124314\n",
      " 0.83853568 0.83569596 0.804373   0.82743933 0.85559515 0.86105593\n",
      " 0.82374784 0.82518942 0.80968086 0.79532991 0.81072929 0.78019265\n",
      " 0.77073453 0.78604659 0.81046718 0.83082499 0.83049742 0.82837857\n",
      " 0.82311443 0.82274301 0.8261288  0.80505013 0.79397565 0.78038929\n",
      " 0.72877398 0.69769113 0.67097703 0.66833397 0.67049655 0.66258921\n",
      " 0.623228   0.63740416 0.60487972 0.61593233 0.59930975 0.35739716\n",
      " 0.33478952 0.28950877 0.27483019 0.33380662 0.32869527 0.42214021\n",
      " 0.48764772 0.4272515  0.37509011 0.38507243 0.44757634 0.45616198\n",
      " 0.48737544 0.52316636 0.5579775  0.58971435 0.61683643 0.6382041\n",
      " 0.65340906 0.66288787 0.6677568  0.66948044 0.66949427 0.66888916\n",
      " 0.6682198  0.66746759 0.66613817 0.66345853]\n",
      "18 day output [[0.65861535]]\n",
      "19 day input [0.85419716 0.86472556 0.87355013 0.86151455 0.88265868 0.88490858\n",
      " 0.85463405 0.91583838 0.94122022 0.95624816 0.94938952 0.93715729\n",
      " 0.9614687  0.99698564 0.97702099 0.96948509 0.99257329 0.94912741\n",
      " 0.8995871  0.9121033  0.92202003 0.90218643 0.92549314 0.98016641\n",
      " 0.97300193 0.99062935 1.         0.97887774 0.97184418 0.92903172\n",
      " 0.91780432 0.92704392 0.94309869 0.93916696 0.89124314 0.83853568\n",
      " 0.83569596 0.804373   0.82743933 0.85559515 0.86105593 0.82374784\n",
      " 0.82518942 0.80968086 0.79532991 0.81072929 0.78019265 0.77073453\n",
      " 0.78604659 0.81046718 0.83082499 0.83049742 0.82837857 0.82311443\n",
      " 0.82274301 0.8261288  0.80505013 0.79397565 0.78038929 0.72877398\n",
      " 0.69769113 0.67097703 0.66833397 0.67049655 0.66258921 0.623228\n",
      " 0.63740416 0.60487972 0.61593233 0.59930975 0.35739716 0.33478952\n",
      " 0.28950877 0.27483019 0.33380662 0.32869527 0.42214021 0.48764772\n",
      " 0.4272515  0.37509011 0.38507243 0.44757634 0.45616198 0.48737544\n",
      " 0.52316636 0.5579775  0.58971435 0.61683643 0.6382041  0.65340906\n",
      " 0.66288787 0.6677568  0.66948044 0.66949427 0.66888916 0.6682198\n",
      " 0.66746759 0.66613817 0.66345853 0.65861535]\n",
      "19 day output [[0.6509784]]\n",
      "20 day input [0.86472556 0.87355013 0.86151455 0.88265868 0.88490858 0.85463405\n",
      " 0.91583838 0.94122022 0.95624816 0.94938952 0.93715729 0.9614687\n",
      " 0.99698564 0.97702099 0.96948509 0.99257329 0.94912741 0.8995871\n",
      " 0.9121033  0.92202003 0.90218643 0.92549314 0.98016641 0.97300193\n",
      " 0.99062935 1.         0.97887774 0.97184418 0.92903172 0.91780432\n",
      " 0.92704392 0.94309869 0.93916696 0.89124314 0.83853568 0.83569596\n",
      " 0.804373   0.82743933 0.85559515 0.86105593 0.82374784 0.82518942\n",
      " 0.80968086 0.79532991 0.81072929 0.78019265 0.77073453 0.78604659\n",
      " 0.81046718 0.83082499 0.83049742 0.82837857 0.82311443 0.82274301\n",
      " 0.8261288  0.80505013 0.79397565 0.78038929 0.72877398 0.69769113\n",
      " 0.67097703 0.66833397 0.67049655 0.66258921 0.623228   0.63740416\n",
      " 0.60487972 0.61593233 0.59930975 0.35739716 0.33478952 0.28950877\n",
      " 0.27483019 0.33380662 0.32869527 0.42214021 0.48764772 0.4272515\n",
      " 0.37509011 0.38507243 0.44757634 0.45616198 0.48737544 0.52316636\n",
      " 0.5579775  0.58971435 0.61683643 0.6382041  0.65340906 0.66288787\n",
      " 0.6677568  0.66948044 0.66949427 0.66888916 0.6682198  0.66746759\n",
      " 0.66613817 0.66345853 0.65861535 0.65097839]\n",
      "20 day output [[0.64025986]]\n",
      "21 day input [0.87355013 0.86151455 0.88265868 0.88490858 0.85463405 0.91583838\n",
      " 0.94122022 0.95624816 0.94938952 0.93715729 0.9614687  0.99698564\n",
      " 0.97702099 0.96948509 0.99257329 0.94912741 0.8995871  0.9121033\n",
      " 0.92202003 0.90218643 0.92549314 0.98016641 0.97300193 0.99062935\n",
      " 1.         0.97887774 0.97184418 0.92903172 0.91780432 0.92704392\n",
      " 0.94309869 0.93916696 0.89124314 0.83853568 0.83569596 0.804373\n",
      " 0.82743933 0.85559515 0.86105593 0.82374784 0.82518942 0.80968086\n",
      " 0.79532991 0.81072929 0.78019265 0.77073453 0.78604659 0.81046718\n",
      " 0.83082499 0.83049742 0.82837857 0.82311443 0.82274301 0.8261288\n",
      " 0.80505013 0.79397565 0.78038929 0.72877398 0.69769113 0.67097703\n",
      " 0.66833397 0.67049655 0.66258921 0.623228   0.63740416 0.60487972\n",
      " 0.61593233 0.59930975 0.35739716 0.33478952 0.28950877 0.27483019\n",
      " 0.33380662 0.32869527 0.42214021 0.48764772 0.4272515  0.37509011\n",
      " 0.38507243 0.44757634 0.45616198 0.48737544 0.52316636 0.5579775\n",
      " 0.58971435 0.61683643 0.6382041  0.65340906 0.66288787 0.6677568\n",
      " 0.66948044 0.66949427 0.66888916 0.6682198  0.66746759 0.66613817\n",
      " 0.66345853 0.65861535 0.65097839 0.64025986]\n",
      "21 day output [[0.6265891]]\n",
      "22 day input [0.86151455 0.88265868 0.88490858 0.85463405 0.91583838 0.94122022\n",
      " 0.95624816 0.94938952 0.93715729 0.9614687  0.99698564 0.97702099\n",
      " 0.96948509 0.99257329 0.94912741 0.8995871  0.9121033  0.92202003\n",
      " 0.90218643 0.92549314 0.98016641 0.97300193 0.99062935 1.\n",
      " 0.97887774 0.97184418 0.92903172 0.91780432 0.92704392 0.94309869\n",
      " 0.93916696 0.89124314 0.83853568 0.83569596 0.804373   0.82743933\n",
      " 0.85559515 0.86105593 0.82374784 0.82518942 0.80968086 0.79532991\n",
      " 0.81072929 0.78019265 0.77073453 0.78604659 0.81046718 0.83082499\n",
      " 0.83049742 0.82837857 0.82311443 0.82274301 0.8261288  0.80505013\n",
      " 0.79397565 0.78038929 0.72877398 0.69769113 0.67097703 0.66833397\n",
      " 0.67049655 0.66258921 0.623228   0.63740416 0.60487972 0.61593233\n",
      " 0.59930975 0.35739716 0.33478952 0.28950877 0.27483019 0.33380662\n",
      " 0.32869527 0.42214021 0.48764772 0.4272515  0.37509011 0.38507243\n",
      " 0.44757634 0.45616198 0.48737544 0.52316636 0.5579775  0.58971435\n",
      " 0.61683643 0.6382041  0.65340906 0.66288787 0.6677568  0.66948044\n",
      " 0.66949427 0.66888916 0.6682198  0.66746759 0.66613817 0.66345853\n",
      " 0.65861535 0.65097839 0.64025986 0.62658912]\n",
      "22 day output [[0.6104901]]\n",
      "23 day input [0.88265868 0.88490858 0.85463405 0.91583838 0.94122022 0.95624816\n",
      " 0.94938952 0.93715729 0.9614687  0.99698564 0.97702099 0.96948509\n",
      " 0.99257329 0.94912741 0.8995871  0.9121033  0.92202003 0.90218643\n",
      " 0.92549314 0.98016641 0.97300193 0.99062935 1.         0.97887774\n",
      " 0.97184418 0.92903172 0.91780432 0.92704392 0.94309869 0.93916696\n",
      " 0.89124314 0.83853568 0.83569596 0.804373   0.82743933 0.85559515\n",
      " 0.86105593 0.82374784 0.82518942 0.80968086 0.79532991 0.81072929\n",
      " 0.78019265 0.77073453 0.78604659 0.81046718 0.83082499 0.83049742\n",
      " 0.82837857 0.82311443 0.82274301 0.8261288  0.80505013 0.79397565\n",
      " 0.78038929 0.72877398 0.69769113 0.67097703 0.66833397 0.67049655\n",
      " 0.66258921 0.623228   0.63740416 0.60487972 0.61593233 0.59930975\n",
      " 0.35739716 0.33478952 0.28950877 0.27483019 0.33380662 0.32869527\n",
      " 0.42214021 0.48764772 0.4272515  0.37509011 0.38507243 0.44757634\n",
      " 0.45616198 0.48737544 0.52316636 0.5579775  0.58971435 0.61683643\n",
      " 0.6382041  0.65340906 0.66288787 0.6677568  0.66948044 0.66949427\n",
      " 0.66888916 0.6682198  0.66746759 0.66613817 0.66345853 0.65861535\n",
      " 0.65097839 0.64025986 0.62658912 0.61049008]\n",
      "23 day output [[0.59278256]]\n",
      "24 day input [0.88490858 0.85463405 0.91583838 0.94122022 0.95624816 0.94938952\n",
      " 0.93715729 0.9614687  0.99698564 0.97702099 0.96948509 0.99257329\n",
      " 0.94912741 0.8995871  0.9121033  0.92202003 0.90218643 0.92549314\n",
      " 0.98016641 0.97300193 0.99062935 1.         0.97887774 0.97184418\n",
      " 0.92903172 0.91780432 0.92704392 0.94309869 0.93916696 0.89124314\n",
      " 0.83853568 0.83569596 0.804373   0.82743933 0.85559515 0.86105593\n",
      " 0.82374784 0.82518942 0.80968086 0.79532991 0.81072929 0.78019265\n",
      " 0.77073453 0.78604659 0.81046718 0.83082499 0.83049742 0.82837857\n",
      " 0.82311443 0.82274301 0.8261288  0.80505013 0.79397565 0.78038929\n",
      " 0.72877398 0.69769113 0.67097703 0.66833397 0.67049655 0.66258921\n",
      " 0.623228   0.63740416 0.60487972 0.61593233 0.59930975 0.35739716\n",
      " 0.33478952 0.28950877 0.27483019 0.33380662 0.32869527 0.42214021\n",
      " 0.48764772 0.4272515  0.37509011 0.38507243 0.44757634 0.45616198\n",
      " 0.48737544 0.52316636 0.5579775  0.58971435 0.61683643 0.6382041\n",
      " 0.65340906 0.66288787 0.6677568  0.66948044 0.66949427 0.66888916\n",
      " 0.6682198  0.66746759 0.66613817 0.66345853 0.65861535 0.65097839\n",
      " 0.64025986 0.62658912 0.61049008 0.59278256]\n"
     ]
    },
    {
     "name": "stdout",
     "output_type": "stream",
     "text": [
      "24 day output [[0.57443285]]\n",
      "25 day input [0.85463405 0.91583838 0.94122022 0.95624816 0.94938952 0.93715729\n",
      " 0.9614687  0.99698564 0.97702099 0.96948509 0.99257329 0.94912741\n",
      " 0.8995871  0.9121033  0.92202003 0.90218643 0.92549314 0.98016641\n",
      " 0.97300193 0.99062935 1.         0.97887774 0.97184418 0.92903172\n",
      " 0.91780432 0.92704392 0.94309869 0.93916696 0.89124314 0.83853568\n",
      " 0.83569596 0.804373   0.82743933 0.85559515 0.86105593 0.82374784\n",
      " 0.82518942 0.80968086 0.79532991 0.81072929 0.78019265 0.77073453\n",
      " 0.78604659 0.81046718 0.83082499 0.83049742 0.82837857 0.82311443\n",
      " 0.82274301 0.8261288  0.80505013 0.79397565 0.78038929 0.72877398\n",
      " 0.69769113 0.67097703 0.66833397 0.67049655 0.66258921 0.623228\n",
      " 0.63740416 0.60487972 0.61593233 0.59930975 0.35739716 0.33478952\n",
      " 0.28950877 0.27483019 0.33380662 0.32869527 0.42214021 0.48764772\n",
      " 0.4272515  0.37509011 0.38507243 0.44757634 0.45616198 0.48737544\n",
      " 0.52316636 0.5579775  0.58971435 0.61683643 0.6382041  0.65340906\n",
      " 0.66288787 0.6677568  0.66948044 0.66949427 0.66888916 0.6682198\n",
      " 0.66746759 0.66613817 0.66345853 0.65861535 0.65097839 0.64025986\n",
      " 0.62658912 0.61049008 0.59278256 0.57443285]\n",
      "25 day output [[0.55639446]]\n",
      "26 day input [0.91583838 0.94122022 0.95624816 0.94938952 0.93715729 0.9614687\n",
      " 0.99698564 0.97702099 0.96948509 0.99257329 0.94912741 0.8995871\n",
      " 0.9121033  0.92202003 0.90218643 0.92549314 0.98016641 0.97300193\n",
      " 0.99062935 1.         0.97887774 0.97184418 0.92903172 0.91780432\n",
      " 0.92704392 0.94309869 0.93916696 0.89124314 0.83853568 0.83569596\n",
      " 0.804373   0.82743933 0.85559515 0.86105593 0.82374784 0.82518942\n",
      " 0.80968086 0.79532991 0.81072929 0.78019265 0.77073453 0.78604659\n",
      " 0.81046718 0.83082499 0.83049742 0.82837857 0.82311443 0.82274301\n",
      " 0.8261288  0.80505013 0.79397565 0.78038929 0.72877398 0.69769113\n",
      " 0.67097703 0.66833397 0.67049655 0.66258921 0.623228   0.63740416\n",
      " 0.60487972 0.61593233 0.59930975 0.35739716 0.33478952 0.28950877\n",
      " 0.27483019 0.33380662 0.32869527 0.42214021 0.48764772 0.4272515\n",
      " 0.37509011 0.38507243 0.44757634 0.45616198 0.48737544 0.52316636\n",
      " 0.5579775  0.58971435 0.61683643 0.6382041  0.65340906 0.66288787\n",
      " 0.6677568  0.66948044 0.66949427 0.66888916 0.6682198  0.66746759\n",
      " 0.66613817 0.66345853 0.65861535 0.65097839 0.64025986 0.62658912\n",
      " 0.61049008 0.59278256 0.57443285 0.55639446]\n",
      "26 day output [[0.539472]]\n",
      "27 day input [0.94122022 0.95624816 0.94938952 0.93715729 0.9614687  0.99698564\n",
      " 0.97702099 0.96948509 0.99257329 0.94912741 0.8995871  0.9121033\n",
      " 0.92202003 0.90218643 0.92549314 0.98016641 0.97300193 0.99062935\n",
      " 1.         0.97887774 0.97184418 0.92903172 0.91780432 0.92704392\n",
      " 0.94309869 0.93916696 0.89124314 0.83853568 0.83569596 0.804373\n",
      " 0.82743933 0.85559515 0.86105593 0.82374784 0.82518942 0.80968086\n",
      " 0.79532991 0.81072929 0.78019265 0.77073453 0.78604659 0.81046718\n",
      " 0.83082499 0.83049742 0.82837857 0.82311443 0.82274301 0.8261288\n",
      " 0.80505013 0.79397565 0.78038929 0.72877398 0.69769113 0.67097703\n",
      " 0.66833397 0.67049655 0.66258921 0.623228   0.63740416 0.60487972\n",
      " 0.61593233 0.59930975 0.35739716 0.33478952 0.28950877 0.27483019\n",
      " 0.33380662 0.32869527 0.42214021 0.48764772 0.4272515  0.37509011\n",
      " 0.38507243 0.44757634 0.45616198 0.48737544 0.52316636 0.5579775\n",
      " 0.58971435 0.61683643 0.6382041  0.65340906 0.66288787 0.6677568\n",
      " 0.66948044 0.66949427 0.66888916 0.6682198  0.66746759 0.66613817\n",
      " 0.66345853 0.65861535 0.65097839 0.64025986 0.62658912 0.61049008\n",
      " 0.59278256 0.57443285 0.55639446 0.53947198]\n",
      "27 day output [[0.5242376]]\n",
      "28 day input [0.95624816 0.94938952 0.93715729 0.9614687  0.99698564 0.97702099\n",
      " 0.96948509 0.99257329 0.94912741 0.8995871  0.9121033  0.92202003\n",
      " 0.90218643 0.92549314 0.98016641 0.97300193 0.99062935 1.\n",
      " 0.97887774 0.97184418 0.92903172 0.91780432 0.92704392 0.94309869\n",
      " 0.93916696 0.89124314 0.83853568 0.83569596 0.804373   0.82743933\n",
      " 0.85559515 0.86105593 0.82374784 0.82518942 0.80968086 0.79532991\n",
      " 0.81072929 0.78019265 0.77073453 0.78604659 0.81046718 0.83082499\n",
      " 0.83049742 0.82837857 0.82311443 0.82274301 0.8261288  0.80505013\n",
      " 0.79397565 0.78038929 0.72877398 0.69769113 0.67097703 0.66833397\n",
      " 0.67049655 0.66258921 0.623228   0.63740416 0.60487972 0.61593233\n",
      " 0.59930975 0.35739716 0.33478952 0.28950877 0.27483019 0.33380662\n",
      " 0.32869527 0.42214021 0.48764772 0.4272515  0.37509011 0.38507243\n",
      " 0.44757634 0.45616198 0.48737544 0.52316636 0.5579775  0.58971435\n",
      " 0.61683643 0.6382041  0.65340906 0.66288787 0.6677568  0.66948044\n",
      " 0.66949427 0.66888916 0.6682198  0.66746759 0.66613817 0.66345853\n",
      " 0.65861535 0.65097839 0.64025986 0.62658912 0.61049008 0.59278256\n",
      " 0.57443285 0.55639446 0.53947198 0.52423757]\n",
      "28 day output [[0.5110058]]\n",
      "29 day input [0.94938952 0.93715729 0.9614687  0.99698564 0.97702099 0.96948509\n",
      " 0.99257329 0.94912741 0.8995871  0.9121033  0.92202003 0.90218643\n",
      " 0.92549314 0.98016641 0.97300193 0.99062935 1.         0.97887774\n",
      " 0.97184418 0.92903172 0.91780432 0.92704392 0.94309869 0.93916696\n",
      " 0.89124314 0.83853568 0.83569596 0.804373   0.82743933 0.85559515\n",
      " 0.86105593 0.82374784 0.82518942 0.80968086 0.79532991 0.81072929\n",
      " 0.78019265 0.77073453 0.78604659 0.81046718 0.83082499 0.83049742\n",
      " 0.82837857 0.82311443 0.82274301 0.8261288  0.80505013 0.79397565\n",
      " 0.78038929 0.72877398 0.69769113 0.67097703 0.66833397 0.67049655\n",
      " 0.66258921 0.623228   0.63740416 0.60487972 0.61593233 0.59930975\n",
      " 0.35739716 0.33478952 0.28950877 0.27483019 0.33380662 0.32869527\n",
      " 0.42214021 0.48764772 0.4272515  0.37509011 0.38507243 0.44757634\n",
      " 0.45616198 0.48737544 0.52316636 0.5579775  0.58971435 0.61683643\n",
      " 0.6382041  0.65340906 0.66288787 0.6677568  0.66948044 0.66949427\n",
      " 0.66888916 0.6682198  0.66746759 0.66613817 0.66345853 0.65861535\n",
      " 0.65097839 0.64025986 0.62658912 0.61049008 0.59278256 0.57443285\n",
      " 0.55639446 0.53947198 0.52423757 0.51100582]\n",
      "29 day output [[0.49986228]]\n",
      "[[0.4475763440132141], [0.4561619758605957], [0.4873754382133484], [0.5231663584709167], [0.5579774975776672], [0.5897143483161926], [0.616836428642273], [0.6382040977478027], [0.6534090638160706], [0.6628878712654114], [0.6677567958831787], [0.6694804430007935], [0.6694942712783813], [0.6688891649246216], [0.668219804763794], [0.6674675941467285], [0.6661381721496582], [0.663458526134491], [0.6586153507232666], [0.6509783864021301], [0.640259861946106], [0.6265891194343567], [0.610490083694458], [0.5927825570106506], [0.5744328498840332], [0.5563944578170776], [0.5394719839096069], [0.5242375731468201], [0.5110058188438416], [0.49986228346824646]]\n"
     ]
    }
   ],
   "source": [
    "from numpy import array\n",
    "\n",
    "lst_output=[]\n",
    "n_steps=100\n",
    "i=0\n",
    "while(i<30):\n",
    "    \n",
    "    if(len(temp_input)>100):\n",
    "        x_input=np.array(temp_input[1:])\n",
    "        print(\"{} day input {}\".format(i,x_input))\n",
    "        x_input=x_input.reshape(1,-1)\n",
    "        x_input = x_input.reshape((1, n_steps, 1))\n",
    "        yhat = model.predict(x_input, verbose=0)\n",
    "        print(\"{} day output {}\".format(i,yhat))\n",
    "        temp_input.extend(yhat[0].tolist())\n",
    "        temp_input=temp_input[1:]\n",
    "        lst_output.extend(yhat.tolist())\n",
    "        i=i+1\n",
    "    else:\n",
    "        x_input = x_input.reshape((1, n_steps,1))\n",
    "        yhat = model.predict(x_input, verbose=0)\n",
    "        print(yhat[0])\n",
    "        temp_input.extend(yhat[0].tolist())\n",
    "        print(len(temp_input))\n",
    "        lst_output.extend(yhat.tolist())\n",
    "        i=i+1\n",
    "    \n",
    "\n",
    "print(lst_output)"
   ]
  },
  {
   "cell_type": "code",
   "execution_count": 52,
   "id": "45880da6",
   "metadata": {},
   "outputs": [],
   "source": [
    "day_new=np.arange(1,101)\n",
    "day_pred=np.arange(101,131)"
   ]
  },
  {
   "cell_type": "code",
   "execution_count": 53,
   "id": "5aa026d8",
   "metadata": {},
   "outputs": [],
   "source": [
    "import matplotlib.pyplot as plt"
   ]
  },
  {
   "cell_type": "code",
   "execution_count": 54,
   "id": "376c6f06",
   "metadata": {},
   "outputs": [
    {
     "data": {
      "text/plain": [
       "1009"
      ]
     },
     "execution_count": 54,
     "metadata": {},
     "output_type": "execute_result"
    }
   ],
   "source": [
    "len(df1)"
   ]
  },
  {
   "cell_type": "code",
   "execution_count": 55,
   "id": "859682ec",
   "metadata": {},
   "outputs": [
    {
     "data": {
      "text/plain": [
       "[<matplotlib.lines.Line2D at 0x19c33c96e80>]"
      ]
     },
     "execution_count": 55,
     "metadata": {},
     "output_type": "execute_result"
    },
    {
     "data": {
      "image/png": "[encoded data removed]",
      "text/plain": [
       "<Figure size 432x288 with 1 Axes>"
      ]
     },
     "metadata": {
      "needs_background": "light"
     },
     "output_type": "display_data"
    }
   ],
   "source": [
    "plt.plot(day_new,scaler.inverse_transform(df1[909:]))\n",
    "plt.plot(day_pred,scaler.inverse_transform(lst_output))"
   ]
  },
  {
   "cell_type": "code",
   "execution_count": 57,
   "id": "f5f37189",
   "metadata": {},
   "outputs": [
    {
     "data": {
      "text/plain": [
       "[<matplotlib.lines.Line2D at 0x19c33f07130>]"
      ]
     },
     "execution_count": 57,
     "metadata": {},
     "output_type": "execute_result"
    },
    {
     "data": {
      "image/png": "[encoded data removed]",
      "text/plain": [
       "<Figure size 432x288 with 1 Axes>"
      ]
     },
     "metadata": {
      "needs_background": "light"
     },
     "output_type": "display_data"
    }
   ],
   "source": [
    "df3=df1.tolist()\n",
    "df3.extend(lst_output)\n",
    "plt.plot(df3[1000:])"
   ]
  },
  {
   "cell_type": "code",
   "execution_count": 58,
   "id": "585e8666",
   "metadata": {},
   "outputs": [],
   "source": [
    "df3=scaler.inverse_transform(df3).tolist()"
   ]
  },
  {
   "cell_type": "code",
   "execution_count": 59,
   "id": "db4908f2",
   "metadata": {},
   "outputs": [
    {
     "data": {
      "text/plain": [
       "[<matplotlib.lines.Line2D at 0x19c33f648b0>]"
      ]
     },
     "execution_count": 59,
     "metadata": {},
     "output_type": "execute_result"
    },
    {
     "data": {
      "image/png": "[encoded data removed]",
      "text/plain": [
       "<Figure size 432x288 with 1 Axes>"
      ]
     },
     "metadata": {
      "needs_background": "light"
     },
     "output_type": "display_data"
    }
   ],
   "source": [
    "plt.plot(df3)"
   ]
  },
  {
   "cell_type": "code",
   "execution_count": null,
   "id": "54f66b0c",
   "metadata": {},
   "outputs": [],
   "source": []
  }
 ],
 "metadata": {
  "kernelspec": {
   "display_name": "Python 3 (ipykernel)",
   "language": "python",
   "name": "python3"
  },
  "language_info": {
   "codemirror_mode": {
    "name": "ipython",
    "version": 3
   },
   "file_extension": ".py",
   "mimetype": "text/x-python",
   "name": "python",
   "nbconvert_exporter": "python",
   "pygments_lexer": "ipython3",
   "version": "3.9.12"
  }
 },
 "nbformat": 4,
 "nbformat_minor": 5
}
